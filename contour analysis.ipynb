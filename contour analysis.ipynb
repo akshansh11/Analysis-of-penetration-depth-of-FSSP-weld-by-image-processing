{
  "nbformat": 4,
  "nbformat_minor": 0,
  "metadata": {
    "colab": {
      "name": "Untitled77.ipynb",
      "provenance": []
    },
    "kernelspec": {
      "name": "python3",
      "display_name": "Python 3"
    },
    "language_info": {
      "name": "python"
    }
  },
  "cells": [
    {
      "cell_type": "markdown",
      "metadata": {
        "id": "pLsALezWp29b"
      },
      "source": [
        ""
      ]
    },
    {
      "cell_type": "code",
      "metadata": {
        "colab": {
          "base_uri": "https://localhost:8080/",
          "height": 102
        },
        "id": "4L3wYy1B6CmH",
        "outputId": "fdcf1fd7-14ff-4635-a807-dc3f42f37194"
      },
      "source": [
        "import cv2\n",
        "from google.colab.patches import cv2_imshow\n",
        "import numpy as np\n",
        "\n",
        "# Read image.\n",
        "img = cv2.imread('Sample 1.png', cv2.IMREAD_COLOR)\n",
        "\n",
        "# Convert to grayscale.\n",
        "gray = cv2.cvtColor(img, cv2.COLOR_BGR2GRAY)\n",
        "\n",
        "# Blur using 3 * 3 kernel.\n",
        "gray_blurred = cv2.blur(gray, (3, 3))\n",
        "\n",
        "# Apply Hough transform on the blurred image.\n",
        "detected_circles = cv2.HoughCircles(gray_blurred,\n",
        "\t\t\t\tcv2.HOUGH_GRADIENT, 1, 20, param1 = 50,\n",
        "\t\t\tparam2 = 30, minRadius = 1, maxRadius = 40)\n",
        "\n",
        "# Draw circles that are detected.\n",
        "if detected_circles is not None:\n",
        "\n",
        "\t# Convert the circle parameters a, b and r to integers.\n",
        "\tdetected_circles = np.uint16(np.around(detected_circles))\n",
        "\n",
        "\tfor pt in detected_circles[0, :]:\n",
        "\t\ta, b, r = pt[0], pt[1], pt[2]\n",
        "\n",
        "\t\t# Draw the circumference of the circle.\n",
        "\t\tcv2.circle(img, (a, b), r, (0, 255, 0), 2)\n",
        "\n",
        "\t\t# Draw a small circle (of radius 1) to show the center.\n",
        "\t\tcv2.circle(img, (a, b), 1, (0, 0, 255), 3)\n",
        "\t\tcv2_imshow(img)\n",
        "\t\tcv2.waitKey(0)\n"
      ],
      "execution_count": 12,
      "outputs": [
        {
          "output_type": "display_data",
          "data": {
            "image/png": "[encoded data removed]",
            "text/plain": [
              "<PIL.Image.Image image mode=RGB size=97x85 at 0x7FA708FD5F50>"
            ]
          },
          "metadata": {
            "tags": []
          }
        }
      ]
    },
    {
      "cell_type": "code",
      "metadata": {
        "colab": {
          "base_uri": "https://localhost:8080/",
          "height": 1000
        },
        "id": "4vuVtLgicrOc",
        "outputId": "12bcd4bf-d585-4f0c-8230-b839509e80d9"
      },
      "source": [
        "import numpy as np\n",
        "from google.colab.patches import cv2_imshow\n",
        "import cv2\n",
        "\n",
        "img = cv2.imread('Sample 1.png')\n",
        "imgray = cv2.cvtColor(img, cv2.COLOR_BGR2GRAY)\n",
        "ret, thresh = cv2.threshold(imgray, 127, 255, 0)\n",
        "contours, hierarchy = cv2.findContours(thresh, cv2.RETR_TREE, cv2.CHAIN_APPROX_NONE)\n",
        "print(\"Number of contours = \" + str(len(contours)))\n",
        "print(contours[0])\n",
        "\n",
        "cv2.drawContours(img, contours, -1, (0, 255, 0), 3)\n",
        "cv2.drawContours(imgray, contours, -1, (0, 255, 0), 3)\n",
        "\n",
        "cv2_imshow(img)\n",
        "cv2_imshow(imgray)\n",
        "cv2.waitKey(0)\n",
        "cv2.destroyAllWindows()"
      ],
      "execution_count": 33,
      "outputs": [
        {
          "output_type": "stream",
          "text": [
            "Number of contours = 39\n",
            "[[[85 77]]\n",
            "\n",
            " [[85 78]]\n",
            "\n",
            " [[84 79]]\n",
            "\n",
            " [[83 80]]\n",
            "\n",
            " [[82 80]]\n",
            "\n",
            " [[81 81]]\n",
            "\n",
            " [[80 81]]\n",
            "\n",
            " [[79 81]]\n",
            "\n",
            " [[78 81]]\n",
            "\n",
            " [[77 82]]\n",
            "\n",
            " [[76 83]]\n",
            "\n",
            " [[75 83]]\n",
            "\n",
            " [[74 83]]\n",
            "\n",
            " [[73 83]]\n",
            "\n",
            " [[72 83]]\n",
            "\n",
            " [[71 84]]\n",
            "\n",
            " [[72 84]]\n",
            "\n",
            " [[73 84]]\n",
            "\n",
            " [[74 83]]\n",
            "\n",
            " [[75 84]]\n",
            "\n",
            " [[76 84]]\n",
            "\n",
            " [[77 84]]\n",
            "\n",
            " [[78 84]]\n",
            "\n",
            " [[79 84]]\n",
            "\n",
            " [[80 84]]\n",
            "\n",
            " [[81 84]]\n",
            "\n",
            " [[82 84]]\n",
            "\n",
            " [[83 84]]\n",
            "\n",
            " [[84 84]]\n",
            "\n",
            " [[85 84]]\n",
            "\n",
            " [[86 84]]\n",
            "\n",
            " [[87 84]]\n",
            "\n",
            " [[87 83]]\n",
            "\n",
            " [[88 82]]\n",
            "\n",
            " [[89 82]]\n",
            "\n",
            " [[90 81]]\n",
            "\n",
            " [[89 81]]\n",
            "\n",
            " [[88 80]]\n",
            "\n",
            " [[87 79]]\n",
            "\n",
            " [[86 78]]\n",
            "\n",
            " [[86 77]]]\n"
          ],
          "name": "stdout"
        },
        {
          "output_type": "display_data",
          "data": {
            "image/png": "[encoded data removed]",
            "text/plain": [
              "<PIL.Image.Image image mode=RGB size=97x85 at 0x7FA6F35E5650>"
            ]
          },
          "metadata": {
            "tags": []
          }
        },
        {
          "output_type": "display_data",
          "data": {
            "image/png": "[encoded data removed]",
            "text/plain": [
              "<PIL.Image.Image image mode=L size=97x85 at 0x7FA6F35E59D0>"
            ]
          },
          "metadata": {
            "tags": []
          }
        }
      ]
    },
    {
      "cell_type": "code",
      "metadata": {
        "id": "SSbxTB22eJ_R"
      },
      "source": [
        "import numpy as np\n",
        "import cv2\n",
        "  \n",
        "# Substitute this with your location\n",
        "image_file = 'Sample 1.png'\n",
        "# OpenCV reads color images as BGR instead of RGB\n",
        "rgb_image = cv2.cvtColor(cv2.imread(image_file, cv2.IMREAD_COLOR), cv2.COLOR_BGR2RGB)"
      ],
      "execution_count": 35,
      "outputs": []
    },
    {
      "cell_type": "code",
      "metadata": {
        "id": "kO6qNeh5eQOF"
      },
      "source": [
        "gray_image = cv2.cvtColor(rgb_image, cv2.COLOR_RGB2GRAY)\n",
        "threshold, thresh_image = cv2.threshold(gray_image, 0, 255, cv2.THRESH_BINARY+cv2.THRESH_OTSU)"
      ],
      "execution_count": 36,
      "outputs": []
    },
    {
      "cell_type": "code",
      "metadata": {
        "id": "AIXBDS6peVzv"
      },
      "source": [
        "from skimage import morphology\n",
        "from scipy.ndimage.morphology import binary_fill_holes\n",
        "\n",
        "# Remove objects containing fewer than 30 pixels (both gives essentially the\n",
        "# same output)\n",
        "rmnoise_image = morphology.remove_small_objects(thresh_image.astype(bool), min_size=30)\n",
        "#rmnoise_image = morphology.binary_opening(thresh_image)\n",
        "\n",
        "# Fill a gap in the cap of the pen\n",
        "fillcap_image = morphology.binary_closing(rmnoise_image, selem=morphology.disk(2))\n",
        "\n",
        "# Fill holes\n",
        "clean_image = binary_fill_holes(fillcap_image)"
      ],
      "execution_count": 37,
      "outputs": []
    },
    {
      "cell_type": "code",
      "metadata": {
        "id": "vltrqWdzeoRI"
      },
      "source": [
        "contours, hierarchy = cv2.findContours(thresh, cv2.RETR_TREE, cv2.CHAIN_APPROX_NONE)"
      ],
      "execution_count": 38,
      "outputs": []
    },
    {
      "cell_type": "code",
      "metadata": {
        "id": "xtFrr97HeqRN"
      },
      "source": [
        "obj_image = np.zeros(clean_image.shape)\n",
        "for ind, cnt in enumerate(contours):\n",
        "  col = 255 * (ind + 1) / len(contours) # Different colors, to differentiate objects\n",
        "  cv2.drawContours(obj_image, [cnt], 0, col, -1)"
      ],
      "execution_count": 39,
      "outputs": []
    },
    {
      "cell_type": "code",
      "metadata": {
        "colab": {
          "base_uri": "https://localhost:8080/",
          "height": 567
        },
        "id": "28ssoQHzevDe",
        "outputId": "1182e5a9-cd24-49e6-9581-ce27e381c69b"
      },
      "source": [
        "import matplotlib.pyplot as plt\n",
        "from __future__ import division\n",
        "\n",
        "round_thresh = 0.9\n",
        "\n",
        "plt.figure()\n",
        "height, width = obj_image.shape\n",
        "plt.imshow(obj_image.astype(np.uint8), cmap='gray')\n",
        "\n",
        "print('Object      Area Perimeter Roundness')\n",
        "for ind, contour in enumerate(contours):\n",
        "  # Compute a simple estimate of the object perimeter\n",
        "  # contour is a list of N coordinate points (x_i, y_i), and the perimeter is computed as\n",
        "  # perimeter = sum_{i=0}^{N-2} ( sqrt( (x_{i+1} - x_i)^2 + (y_{i+1} - y_i)^2 ))\n",
        "  delta_squared = np.diff(contour, axis=0)*np.diff(contour, axis=0)\n",
        "  perimeter = np.sum(np.sqrt(np.sum(delta_squared, axis=1)))\n",
        "  \n",
        "  # or use the built in arcLength() (both arcLength() and contourArea() are\n",
        "  # based on Freeman chain codes).\n",
        "  perimeter = cv2.arcLength(contour, True)\n",
        "\n",
        "  area = cv2.contourArea(contour)\n",
        "  alpha = 4*np.pi*area/(perimeter**2)\n",
        "  print('{0:>6} {1:>9,.0f} {2:>9,.2f} {3:>9,.3f}'.format(ind, area, perimeter, alpha))\n",
        "\n",
        "  # Plot a red circle on the centroid of the round objects\n",
        "  if alpha > round_thresh:\n",
        "    moments = cv2.moments(contour)\n",
        "    cx = int(moments['m10'] / moments['m00'])\n",
        "    cy = int(moments['m01'] / moments['m00'])\n",
        "    plt.plot(cx, cy, 'ro')\n",
        "\n",
        "# Fit the plt.plot() figures to the plt.imshow()\n",
        "axes = plt.gca()\n",
        "axes.set_xlim([0, width])\n",
        "axes.set_ylim([height, 0])\n",
        "\n",
        "plt.show()"
      ],
      "execution_count": 44,
      "outputs": [
        {
          "output_type": "stream",
          "text": [
            "Object      Area Perimeter Roundness\n",
            "     0        52     46.38     0.301\n",
            "     1         2      5.66     0.785\n",
            "     2        52     36.73     0.489\n",
            "     3         1      4.00     0.785\n"
          ],
          "name": "stdout"
        },
        {
          "output_type": "error",
          "ename": "ZeroDivisionError",
          "evalue": "ignored",
          "traceback": [
            "\u001b[0;31m---------------------------------------------------------------------------\u001b[0m",
            "\u001b[0;31mZeroDivisionError\u001b[0m                         Traceback (most recent call last)",
            "\u001b[0;32m<ipython-input-44-4479b8366e37>\u001b[0m in \u001b[0;36m<module>\u001b[0;34m()\u001b[0m\n\u001b[1;32m     21\u001b[0m \u001b[0;34m\u001b[0m\u001b[0m\n\u001b[1;32m     22\u001b[0m   \u001b[0marea\u001b[0m \u001b[0;34m=\u001b[0m \u001b[0mcv2\u001b[0m\u001b[0;34m.\u001b[0m\u001b[0mcontourArea\u001b[0m\u001b[0;34m(\u001b[0m\u001b[0mcontour\u001b[0m\u001b[0;34m)\u001b[0m\u001b[0;34m\u001b[0m\u001b[0;34m\u001b[0m\u001b[0m\n\u001b[0;32m---> 23\u001b[0;31m   \u001b[0malpha\u001b[0m \u001b[0;34m=\u001b[0m \u001b[0;36m4\u001b[0m\u001b[0;34m*\u001b[0m\u001b[0mnp\u001b[0m\u001b[0;34m.\u001b[0m\u001b[0mpi\u001b[0m\u001b[0;34m*\u001b[0m\u001b[0marea\u001b[0m\u001b[0;34m/\u001b[0m\u001b[0;34m(\u001b[0m\u001b[0mperimeter\u001b[0m\u001b[0;34m**\u001b[0m\u001b[0;36m2\u001b[0m\u001b[0;34m)\u001b[0m\u001b[0;34m\u001b[0m\u001b[0;34m\u001b[0m\u001b[0m\n\u001b[0m\u001b[1;32m     24\u001b[0m   \u001b[0mprint\u001b[0m\u001b[0;34m(\u001b[0m\u001b[0;34m'{0:>6} {1:>9,.0f} {2:>9,.2f} {3:>9,.3f}'\u001b[0m\u001b[0;34m.\u001b[0m\u001b[0mformat\u001b[0m\u001b[0;34m(\u001b[0m\u001b[0mind\u001b[0m\u001b[0;34m,\u001b[0m \u001b[0marea\u001b[0m\u001b[0;34m,\u001b[0m \u001b[0mperimeter\u001b[0m\u001b[0;34m,\u001b[0m \u001b[0malpha\u001b[0m\u001b[0;34m)\u001b[0m\u001b[0;34m)\u001b[0m\u001b[0;34m\u001b[0m\u001b[0;34m\u001b[0m\u001b[0m\n\u001b[1;32m     25\u001b[0m \u001b[0;34m\u001b[0m\u001b[0m\n",
            "\u001b[0;31mZeroDivisionError\u001b[0m: float division by zero"
          ]
        },
        {
          "output_type": "display_data",
          "data": {
            "image/png": "[encoded data removed]",
            "text/plain": [
              "<Figure size 432x288 with 1 Axes>"
            ]
          },
          "metadata": {
            "tags": [],
            "needs_background": "light"
          }
        }
      ]
    }
  ]
}